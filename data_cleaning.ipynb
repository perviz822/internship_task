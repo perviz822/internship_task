{
 "cells": [
  {
   "cell_type": "markdown",
   "metadata": {},
   "source": [
    "<h3> Loading the libraries <h3>"
   ]
  },
  {
   "cell_type": "code",
   "execution_count": 2,
   "metadata": {},
   "outputs": [],
   "source": [
    "import requests\n",
    "from bs4 import BeautifulSoup\n",
    "import numpy as np\n",
    "import pandas as pd\n",
    "import json\n"
   ]
  },
  {
   "cell_type": "markdown",
   "metadata": {},
   "source": [
    "<h3> Read the data <h3>"
   ]
  },
  {
   "cell_type": "code",
   "execution_count": 5,
   "metadata": {},
   "outputs": [
    {
     "name": "stdout",
     "output_type": "stream",
     "text": [
      "                  Domain name            Company name Twitter  \\\n",
      "0         chateau-giscours.fr        Château Giscours     NaN   \n",
      "1                    raimo.fr           Raimo Glacier     NaN   \n",
      "2  champagne-voirin-jumel.com  Champagne Voirin Jumel     NaN   \n",
      "3        chateaudepoisses.com      Château d'Époisses     NaN   \n",
      "4              parenchere.com   Château de Parenchère     NaN   \n",
      "\n",
      "              Facebook  \n",
      "0                  NaN  \n",
      "1         raimoglacier  \n",
      "2                  NaN  \n",
      "3     chateaudepoisses  \n",
      "4  chateaudeparenchere  \n"
     ]
    }
   ],
   "source": [
    "data =  pd.read_csv('wtb-internship-test.csv')\n",
    "print(data.head())"
   ]
  },
  {
   "cell_type": "markdown",
   "metadata": {},
   "source": [
    "<h3> Inspecting the data <h3>"
   ]
  },
  {
   "cell_type": "code",
   "execution_count": 6,
   "metadata": {},
   "outputs": [
    {
     "name": "stdout",
     "output_type": "stream",
     "text": [
      "<class 'pandas.core.frame.DataFrame'>\n",
      "RangeIndex: 2022 entries, 0 to 2021\n",
      "Data columns (total 4 columns):\n",
      " #   Column        Non-Null Count  Dtype \n",
      "---  ------        --------------  ----- \n",
      " 0   Domain name   2022 non-null   object\n",
      " 1   Company name  1940 non-null   object\n",
      " 2   Twitter       446 non-null    object\n",
      " 3   Facebook      1288 non-null   object\n",
      "dtypes: object(4)\n",
      "memory usage: 63.3+ KB\n"
     ]
    },
    {
     "data": {
      "text/plain": [
       "0"
      ]
     },
     "execution_count": 6,
     "metadata": {},
     "output_type": "execute_result"
    }
   ],
   "source": [
    "data.info()\n",
    "data.describe()\n",
    "data.isnull().sum()\n",
    "data.duplicated().sum()\n"
   ]
  },
  {
   "cell_type": "markdown",
   "metadata": {},
   "source": [
    "<h3> Fill missing values <h3>"
   ]
  },
  {
   "cell_type": "code",
   "execution_count": 7,
   "metadata": {},
   "outputs": [
    {
     "name": "stderr",
     "output_type": "stream",
     "text": [
      "/var/folders/h4/kdky5skx0jggltns31j4zj7r0000gn/T/ipykernel_72171/1236659601.py:1: FutureWarning: A value is trying to be set on a copy of a DataFrame or Series through chained assignment using an inplace method.\n",
      "The behavior will change in pandas 3.0. This inplace method will never work because the intermediate object on which we are setting values always behaves as a copy.\n",
      "\n",
      "For example, when doing 'df[col].method(value, inplace=True)', try using 'df.method({col: value}, inplace=True)' or df[col] = df[col].method(value) instead, to perform the operation inplace on the original object.\n",
      "\n",
      "\n",
      "  data['Twitter'].fillna('unknown', inplace=True)\n",
      "/var/folders/h4/kdky5skx0jggltns31j4zj7r0000gn/T/ipykernel_72171/1236659601.py:2: FutureWarning: A value is trying to be set on a copy of a DataFrame or Series through chained assignment using an inplace method.\n",
      "The behavior will change in pandas 3.0. This inplace method will never work because the intermediate object on which we are setting values always behaves as a copy.\n",
      "\n",
      "For example, when doing 'df[col].method(value, inplace=True)', try using 'df.method({col: value}, inplace=True)' or df[col] = df[col].method(value) instead, to perform the operation inplace on the original object.\n",
      "\n",
      "\n",
      "  data['Facebook'].fillna('unknown', inplace=True)\n"
     ]
    }
   ],
   "source": [
    "\n",
    "data['Twitter'].fillna('unknown', inplace=True)\n",
    "data['Facebook'].fillna('unknown', inplace=True)\n"
   ]
  },
  {
   "cell_type": "markdown",
   "metadata": {},
   "source": [
    "<h3> Normalize the text <h3>"
   ]
  },
  {
   "cell_type": "code",
   "execution_count": 8,
   "metadata": {},
   "outputs": [],
   "source": [
    "data['Company name'] = data['Company name'].str.lower().str.strip()\n",
    "data['Twitter'] = data['Twitter'].str.lower().str.strip()\n",
    "data['Facebook'] = data['Facebook'].str.lower().str.strip()\n",
    "\n"
   ]
  },
  {
   "cell_type": "markdown",
   "metadata": {},
   "source": [
    "<h3> Remove duplicates <h3>"
   ]
  },
  {
   "cell_type": "code",
   "execution_count": 9,
   "metadata": {},
   "outputs": [],
   "source": [
    "data.drop_duplicates(inplace=True)"
   ]
  },
  {
   "cell_type": "markdown",
   "metadata": {},
   "source": [
    "<h3> Validate domain names <h3>"
   ]
  },
  {
   "cell_type": "code",
   "execution_count": 10,
   "metadata": {},
   "outputs": [],
   "source": [
    "import re\n",
    "def validate_domain(domain):\n",
    "    pattern = re.compile(r'^(?:[a-z0-9](?:[a-z0-9-]{0,61}[a-z0-9])?\\.)+[a-z]{2,6}$')\n",
    "    return bool(pattern.match(domain))\n",
    "data['Domain_valid'] = data['Domain name'].apply(validate_domain)\n"
   ]
  },
  {
   "cell_type": "markdown",
   "metadata": {},
   "source": [
    "<h3> Validate social media  names <h3>"
   ]
  },
  {
   "cell_type": "code",
   "execution_count": 11,
   "metadata": {},
   "outputs": [],
   "source": [
    "def validate_twitter(handle):\n",
    "    pattern = re.compile(r'^@?(\\w){1,15}$')\n",
    "    return bool(pattern.match(handle))\n",
    "\n",
    "def validate_facebook(handle):\n",
    "    pattern = re.compile(r'^[a-z\\d.]{5,}$')\n",
    "    return bool(pattern.match(handle))\n",
    "\n",
    "data['Twitter_valid'] = data['Twitter'].apply(validate_twitter)\n",
    "data['Facebook_valid'] = data['Facebook'].apply(validate_facebook)\n",
    "\n",
    "\n",
    "\n"
   ]
  },
  {
   "cell_type": "code",
   "execution_count": 17,
   "metadata": {},
   "outputs": [],
   "source": [
    "def get_security_data (url):\n",
    " audit_data=[]\n",
    " row = data.loc[data['Domain name'] == url]\n",
    " lighthouse_report=row.iloc[0]['lighthouse_report']\n",
    " security_categories = [\n",
    "        \"is-on-https\",\n",
    "        \"redirects-http\",\n",
    "        \"no-vulnerable-libraries\",\n",
    "        \"csp-xss\",\n",
    "        \"password-inputs-can-be-pasted-into\",\n",
    "        \"content-width\",\n",
    "    ]  # Add more as needed\n",
    "\n",
    " audit_data.append( lighthouse_report[\"audits\"]['legacy-javascript'])\n",
    " audit_data.append( lighthouse_report[\"audits\"]['redirects-http'])\n",
    " audit_data.append( lighthouse_report[\"audits\"][\"password-inputs-can-be-pasted-into\"])\n",
    " \n",
    "\n",
    "       \n",
    " return audit_data         \n",
    "\n",
    "    "
   ]
  },
  {
   "cell_type": "code",
   "execution_count": null,
   "metadata": {},
   "outputs": [],
   "source": [
    "import requests\n",
    "from bs4 import BeautifulSoup\n",
    "import response\n",
    "def extract_contact_info(url):\n",
    "    # Method 1: Parsing HTML\n",
    "    response = requests.get(url)\n",
    "    soup = BeautifulSoup(response.content, 'html.parser')\n",
    "    contact_info = set()  # Using a set to avoid duplicates\n",
    "\n",
    "    # Extract contact info from HTML elements\n",
    "    for element in soup.find_all(['p', 'div', 'span']):\n",
    "        text = element.get_text().strip() \n",
    "        # Example pattern for email address extraction\n",
    "        email_pattern = r'[a-zA-Z0-9._%+-]+@[a-zA-Z0-9.-]+\\.[a-zA-Z]{2,}'\n",
    "        emails = re.findall(email_pattern, text)\n",
    "        for email in emails:\n",
    "            if ' ' not in email:  # Check if email contains no space\n",
    "                contact_info.add(email)\n",
    "        \n",
    "        # Regular expression pattern for French phone numbers\n",
    "        phone_pattern = r'(?:\\+|00)33\\s*\\(?(?:0|\\(0\\))\\)?\\s*[1-9](?:[\\s.-]*\\d{2}){4}'\n",
    "        french_phone_numbers = re.findall(phone_pattern, text)\n",
    "        contact_info.update(french_phone_numbers)\n",
    "\n",
    "    return contact_info\n",
    "\n",
    "\n",
    "\n",
    "url= 'https://beauxvillages.be'\n",
    "contact_info = extract_contact_info(url)\n",
    "\n",
    "   \n"
   ]
  },
  {
   "cell_type": "code",
   "execution_count": null,
   "metadata": {},
   "outputs": [],
   "source": []
  }
 ],
 "metadata": {
  "kernelspec": {
   "display_name": ".venv",
   "language": "python",
   "name": "python3"
  },
  "language_info": {
   "codemirror_mode": {
    "name": "ipython",
    "version": 3
   },
   "file_extension": ".py",
   "mimetype": "text/x-python",
   "name": "python",
   "nbconvert_exporter": "python",
   "pygments_lexer": "ipython3",
   "version": "3.12.3"
  }
 },
 "nbformat": 4,
 "nbformat_minor": 2
}
