{
 "cells": [
  {
   "cell_type": "markdown",
   "metadata": {},
   "source": [
    "<h3> Loading the libraries <h3>"
   ]
  },
  {
   "cell_type": "code",
   "execution_count": 28,
   "metadata": {},
   "outputs": [],
   "source": [
    "import requests\n",
    "from bs4 import BeautifulSoup\n",
    "import numpy as np\n",
    "import pandas as pd\n",
    "import json\n",
    "import pandas as pd\n"
   ]
  },
  {
   "cell_type": "markdown",
   "metadata": {},
   "source": [
    "<h3> Read the data <h3>"
   ]
  },
  {
   "cell_type": "code",
   "execution_count": 29,
   "metadata": {},
   "outputs": [
    {
     "name": "stdout",
     "output_type": "stream",
     "text": [
      "                  Domain name            Company name Twitter  \\\n",
      "0         chateau-giscours.fr        Château Giscours     NaN   \n",
      "1                    raimo.fr           Raimo Glacier     NaN   \n",
      "2  champagne-voirin-jumel.com  Champagne Voirin Jumel     NaN   \n",
      "3        chateaudepoisses.com      Château d'Époisses     NaN   \n",
      "4              parenchere.com   Château de Parenchère     NaN   \n",
      "\n",
      "              Facebook  Unnamed: 0  \\\n",
      "0                  NaN           0   \n",
      "1         raimoglacier           1   \n",
      "2                  NaN           2   \n",
      "3     chateaudepoisses           3   \n",
      "4  chateaudeparenchere           4   \n",
      "\n",
      "                                  lighthouse_metrics  \\\n",
      "0  {'mobile': {'performance': 0.59, 'accessibilit...   \n",
      "1  {'mobile': {'performance': 0.61, 'accessibilit...   \n",
      "2  {'mobile': {'performance': 0.39, 'accessibilit...   \n",
      "3  {'mobile': {'performance': 0.32, 'accessibilit...   \n",
      "4  {'mobile': {'performance': 0.35, 'accessibilit...   \n",
      "\n",
      "                                     contact_details  \n",
      "0                 {'emails': set(), 'phones': set()}  \n",
      "1  {'emails': {'eboutique@raimo.fr'}, 'phones': {...  \n",
      "2  {'emails': {'informationstom@champagnevj.comCo...  \n",
      "3  {'emails': {'visites@chateaudepoisses.com'}, '...  \n",
      "4  {'emails': {'info@parenchere.com'}, 'phones': ...  \n"
     ]
    }
   ],
   "source": [
    "data =  pd.read_csv('wtb1.csv')\n",
    "print(data.head())"
   ]
  },
  {
   "cell_type": "markdown",
   "metadata": {},
   "source": [
    "<h3> Inspecting the data <h3>"
   ]
  },
  {
   "cell_type": "code",
   "execution_count": 30,
   "metadata": {},
   "outputs": [
    {
     "name": "stdout",
     "output_type": "stream",
     "text": [
      "<class 'pandas.core.frame.DataFrame'>\n",
      "RangeIndex: 2022 entries, 0 to 2021\n",
      "Data columns (total 7 columns):\n",
      " #   Column              Non-Null Count  Dtype \n",
      "---  ------              --------------  ----- \n",
      " 0   Domain name         2022 non-null   object\n",
      " 1   Company name        1940 non-null   object\n",
      " 2   Twitter             446 non-null    object\n",
      " 3   Facebook            1288 non-null   object\n",
      " 4   Unnamed: 0          2022 non-null   int64 \n",
      " 5   lighthouse_metrics  2022 non-null   object\n",
      " 6   contact_details     2022 non-null   object\n",
      "dtypes: int64(1), object(6)\n",
      "memory usage: 110.7+ KB\n"
     ]
    },
    {
     "data": {
      "text/plain": [
       "0"
      ]
     },
     "execution_count": 30,
     "metadata": {},
     "output_type": "execute_result"
    }
   ],
   "source": [
    "data.info()\n",
    "data.describe()\n",
    "data.isnull().sum()\n",
    "data.duplicated().sum()\n"
   ]
  },
  {
   "cell_type": "markdown",
   "metadata": {},
   "source": [
    "<h3> Fill missing values <h3>"
   ]
  },
  {
   "cell_type": "code",
   "execution_count": 31,
   "metadata": {},
   "outputs": [
    {
     "name": "stderr",
     "output_type": "stream",
     "text": [
      "/var/folders/h4/kdky5skx0jggltns31j4zj7r0000gn/T/ipykernel_21762/1236659601.py:1: FutureWarning: A value is trying to be set on a copy of a DataFrame or Series through chained assignment using an inplace method.\n",
      "The behavior will change in pandas 3.0. This inplace method will never work because the intermediate object on which we are setting values always behaves as a copy.\n",
      "\n",
      "For example, when doing 'df[col].method(value, inplace=True)', try using 'df.method({col: value}, inplace=True)' or df[col] = df[col].method(value) instead, to perform the operation inplace on the original object.\n",
      "\n",
      "\n",
      "  data['Twitter'].fillna('unknown', inplace=True)\n",
      "/var/folders/h4/kdky5skx0jggltns31j4zj7r0000gn/T/ipykernel_21762/1236659601.py:2: FutureWarning: A value is trying to be set on a copy of a DataFrame or Series through chained assignment using an inplace method.\n",
      "The behavior will change in pandas 3.0. This inplace method will never work because the intermediate object on which we are setting values always behaves as a copy.\n",
      "\n",
      "For example, when doing 'df[col].method(value, inplace=True)', try using 'df.method({col: value}, inplace=True)' or df[col] = df[col].method(value) instead, to perform the operation inplace on the original object.\n",
      "\n",
      "\n",
      "  data['Facebook'].fillna('unknown', inplace=True)\n"
     ]
    }
   ],
   "source": [
    "\n",
    "data['Twitter'].fillna('unknown', inplace=True)\n",
    "data['Facebook'].fillna('unknown', inplace=True)\n"
   ]
  },
  {
   "cell_type": "markdown",
   "metadata": {},
   "source": [
    "<h3> Remove duplicates <h3>"
   ]
  },
  {
   "cell_type": "code",
   "execution_count": 32,
   "metadata": {},
   "outputs": [],
   "source": [
    "data.drop_duplicates(inplace=True)"
   ]
  },
  {
   "cell_type": "markdown",
   "metadata": {},
   "source": [
    "<h3> Validate domain names <h3>"
   ]
  },
  {
   "cell_type": "code",
   "execution_count": 33,
   "metadata": {},
   "outputs": [],
   "source": [
    "import re\n",
    "def validate_domain(domain):\n",
    "    pattern = re.compile(r'^(?:[a-z0-9](?:[a-z0-9-]{0,61}[a-z0-9])?\\.)+[a-z]{2,6}$')\n",
    "    return bool(pattern.match(domain))\n",
    "data['Domain_valid'] = data['Domain name'].apply(validate_domain)\n"
   ]
  },
  {
   "cell_type": "markdown",
   "metadata": {},
   "source": [
    "<h3> Validate social media  names <h3>"
   ]
  },
  {
   "cell_type": "code",
   "execution_count": 34,
   "metadata": {},
   "outputs": [],
   "source": [
    "def validate_twitter(handle):\n",
    "    pattern = re.compile(r'^@?(\\w){1,15}$')\n",
    "    return bool(pattern.match(handle))\n",
    "\n",
    "def validate_facebook(handle):\n",
    "    pattern = re.compile(r'^[a-z\\d.]{5,}$')\n",
    "    return bool(pattern.match(handle))\n",
    "\n",
    "data['Twitter_valid'] = data['Twitter'].apply(validate_twitter)\n",
    "data['Facebook_valid'] = data['Facebook'].apply(validate_facebook)\n",
    "\n",
    "\n",
    "\n"
   ]
  },
  {
   "cell_type": "code",
   "execution_count": 35,
   "metadata": {},
   "outputs": [],
   "source": [
    "data.to_csv('wtb-internship-test.csv')"
   ]
  }
 ],
 "metadata": {
  "kernelspec": {
   "display_name": ".venv",
   "language": "python",
   "name": "python3"
  },
  "language_info": {
   "codemirror_mode": {
    "name": "ipython",
    "version": 3
   },
   "file_extension": ".py",
   "mimetype": "text/x-python",
   "name": "python",
   "nbconvert_exporter": "python",
   "pygments_lexer": "ipython3",
   "version": "3.12.3"
  }
 },
 "nbformat": 4,
 "nbformat_minor": 2
}
