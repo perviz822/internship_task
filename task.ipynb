{
 "cells": [
  {
   "cell_type": "markdown",
   "metadata": {},
   "source": [
    "<h3> Loading the libraries <h3>"
   ]
  },
  {
   "cell_type": "code",
   "execution_count": 3,
   "metadata": {},
   "outputs": [],
   "source": [
    "import requests\n",
    "from bs4 import BeautifulSoup\n",
    "import numpy as np\n",
    "import pandas as pd"
   ]
  },
  {
   "cell_type": "markdown",
   "metadata": {},
   "source": [
    "<h3> Read the data <h3>"
   ]
  },
  {
   "cell_type": "code",
   "execution_count": 7,
   "metadata": {},
   "outputs": [
    {
     "name": "stdout",
     "output_type": "stream",
     "text": [
      "                  Domain name            Company name Twitter  \\\n",
      "0         chateau-giscours.fr        Château Giscours     NaN   \n",
      "1                    raimo.fr           Raimo Glacier     NaN   \n",
      "2  champagne-voirin-jumel.com  Champagne Voirin Jumel     NaN   \n",
      "3        chateaudepoisses.com      Château d'Époisses     NaN   \n",
      "4              parenchere.com   Château de Parenchère     NaN   \n",
      "\n",
      "              Facebook  \n",
      "0                  NaN  \n",
      "1         raimoglacier  \n",
      "2                  NaN  \n",
      "3     chateaudepoisses  \n",
      "4  chateaudeparenchere  \n"
     ]
    }
   ],
   "source": [
    "data =  pd.read_csv('wtb-internship-test.csv')\n",
    "print(data.head())"
   ]
  },
  {
   "cell_type": "markdown",
   "metadata": {},
   "source": [
    "<h3> Inspecting the data <h3>"
   ]
  },
  {
   "cell_type": "code",
   "execution_count": 8,
   "metadata": {},
   "outputs": [
    {
     "name": "stdout",
     "output_type": "stream",
     "text": [
      "<class 'pandas.core.frame.DataFrame'>\n",
      "RangeIndex: 2022 entries, 0 to 2021\n",
      "Data columns (total 4 columns):\n",
      " #   Column        Non-Null Count  Dtype \n",
      "---  ------        --------------  ----- \n",
      " 0   Domain name   2022 non-null   object\n",
      " 1   Company name  1940 non-null   object\n",
      " 2   Twitter       446 non-null    object\n",
      " 3   Facebook      1288 non-null   object\n",
      "dtypes: object(4)\n",
      "memory usage: 63.3+ KB\n"
     ]
    },
    {
     "data": {
      "text/plain": [
       "0"
      ]
     },
     "execution_count": 8,
     "metadata": {},
     "output_type": "execute_result"
    }
   ],
   "source": [
    "data.info()\n",
    "data.describe()\n",
    "data.isnull().sum()\n",
    "data.duplicated().sum()\n"
   ]
  },
  {
   "cell_type": "markdown",
   "metadata": {},
   "source": [
    "<h3> Fill missing values <h3>"
   ]
  },
  {
   "cell_type": "code",
   "execution_count": 9,
   "metadata": {},
   "outputs": [
    {
     "name": "stderr",
     "output_type": "stream",
     "text": [
      "/var/folders/h4/kdky5skx0jggltns31j4zj7r0000gn/T/ipykernel_23297/1236659601.py:1: FutureWarning: A value is trying to be set on a copy of a DataFrame or Series through chained assignment using an inplace method.\n",
      "The behavior will change in pandas 3.0. This inplace method will never work because the intermediate object on which we are setting values always behaves as a copy.\n",
      "\n",
      "For example, when doing 'df[col].method(value, inplace=True)', try using 'df.method({col: value}, inplace=True)' or df[col] = df[col].method(value) instead, to perform the operation inplace on the original object.\n",
      "\n",
      "\n",
      "  data['Twitter'].fillna('unknown', inplace=True)\n",
      "/var/folders/h4/kdky5skx0jggltns31j4zj7r0000gn/T/ipykernel_23297/1236659601.py:2: FutureWarning: A value is trying to be set on a copy of a DataFrame or Series through chained assignment using an inplace method.\n",
      "The behavior will change in pandas 3.0. This inplace method will never work because the intermediate object on which we are setting values always behaves as a copy.\n",
      "\n",
      "For example, when doing 'df[col].method(value, inplace=True)', try using 'df.method({col: value}, inplace=True)' or df[col] = df[col].method(value) instead, to perform the operation inplace on the original object.\n",
      "\n",
      "\n",
      "  data['Facebook'].fillna('unknown', inplace=True)\n"
     ]
    }
   ],
   "source": [
    "\n",
    "data['Twitter'].fillna('unknown', inplace=True)\n",
    "data['Facebook'].fillna('unknown', inplace=True)\n"
   ]
  },
  {
   "cell_type": "markdown",
   "metadata": {},
   "source": [
    "<h3> Normalize the text <h3>"
   ]
  },
  {
   "cell_type": "code",
   "execution_count": 12,
   "metadata": {},
   "outputs": [
    {
     "name": "stdout",
     "output_type": "stream",
     "text": [
      "                  Domain name            Company name  Twitter  \\\n",
      "0         chateau-giscours.fr        château giscours  unknown   \n",
      "1                    raimo.fr           raimo glacier  unknown   \n",
      "2  champagne-voirin-jumel.com  champagne voirin jumel  unknown   \n",
      "3        chateaudepoisses.com      château d'époisses  unknown   \n",
      "4              parenchere.com   château de parenchère  unknown   \n",
      "\n",
      "              Facebook  \n",
      "0              unknown  \n",
      "1         raimoglacier  \n",
      "2              unknown  \n",
      "3     chateaudepoisses  \n",
      "4  chateaudeparenchere  \n"
     ]
    }
   ],
   "source": [
    "data['Company name'] = data['Company name'].str.lower().str.strip()\n",
    "data['Twitter'] = data['Twitter'].str.lower().str.strip()\n",
    "data['Facebook'] = data['Facebook'].str.lower().str.strip()\n",
    "\n"
   ]
  },
  {
   "cell_type": "markdown",
   "metadata": {},
   "source": [
    "<h3> Remove duplicates <h3>"
   ]
  },
  {
   "cell_type": "code",
   "execution_count": 13,
   "metadata": {},
   "outputs": [],
   "source": [
    "data.drop_duplicates(inplace=True)"
   ]
  },
  {
   "cell_type": "markdown",
   "metadata": {},
   "source": [
    "<h3> Validate domain names <h3>"
   ]
  },
  {
   "cell_type": "code",
   "execution_count": 14,
   "metadata": {},
   "outputs": [],
   "source": [
    "import re\n",
    "\n",
    "def validate_domain(domain):\n",
    "    pattern = re.compile(r'^(?:[a-z0-9](?:[a-z0-9-]{0,61}[a-z0-9])?\\.)+[a-z]{2,6}$')\n",
    "    return bool(pattern.match(domain))\n",
    "data['Domain_valid'] = data['Domain name'].apply(validate_domain)\n"
   ]
  },
  {
   "cell_type": "markdown",
   "metadata": {},
   "source": [
    "<h3> Validate social media  names <h3>"
   ]
  },
  {
   "cell_type": "code",
   "execution_count": 18,
   "metadata": {},
   "outputs": [],
   "source": [
    "def validate_twitter(handle):\n",
    "    pattern = re.compile(r'^@?(\\w){1,15}$')\n",
    "    return bool(pattern.match(handle))\n",
    "\n",
    "def validate_facebook(handle):\n",
    "    pattern = re.compile(r'^[a-z\\d.]{5,}$')\n",
    "    return bool(pattern.match(handle))\n",
    "\n",
    "data['Twitter_valid'] = data['Twitter'].apply(validate_twitter)\n",
    "data['Facebook_valid'] = data['Facebook'].apply(validate_facebook)\n",
    "\n",
    "\n",
    "\n"
   ]
  },
  {
   "cell_type": "code",
   "execution_count": 19,
   "metadata": {},
   "outputs": [
    {
     "name": "stdout",
     "output_type": "stream",
     "text": [
      "2022\n",
      "2022\n"
     ]
    }
   ],
   "source": [
    "print(len(data['Twitter']))\n",
    "print(len(data['Twitter_valid']))\n"
   ]
  },
  {
   "cell_type": "code",
   "execution_count": 20,
   "metadata": {},
   "outputs": [
    {
     "name": "stdout",
     "output_type": "stream",
     "text": [
      "2022\n",
      "2022\n"
     ]
    }
   ],
   "source": [
    "print(len(data['Facebook']))\n",
    "print(len(data['Facebook_valid']))"
   ]
  },
  {
   "cell_type": "code",
   "execution_count": 76,
   "metadata": {},
   "outputs": [],
   "source": [
    "from tqdm import tqdm\n",
    "tqdm.pandas() \n",
    "import requests\n",
    "def check_website(domain):\n",
    "   \n",
    "    try:\n",
    "        response = requests.get(f\"http://{domain}\" ,timeout=5)\n",
    "        response_time = response.elapsed.total_seconds()\n",
    "        if response.status_code == 200:\n",
    "            return response_time\n",
    "        else:\n",
    "            return response.status_code\n",
    "    \n",
    "    except requests.exceptions.SSLError:\n",
    "        # most specific SSL Error  first\n",
    "        return \"Non-functional (SSL Error)\"\n",
    "    except requests.exceptions.ConnectionError:\n",
    "        print('connection errror')\n",
    "        return \"Non-functional (Connection Error)\"\n",
    "    except requests.exceptions.Timeout:\n",
    "       \n",
    "        return \"Non-functional (Timeout Error)\"\n",
    "    except requests.exceptions.RequestException as e:\n",
    "        # Catch-all for other request exceptions\n",
    "        return \"Non-functional Other Error\"\n",
    "    "
   ]
  },
  {
   "cell_type": "code",
   "execution_count": 27,
   "metadata": {},
   "outputs": [
    {
     "name": "stderr",
     "output_type": "stream",
     "text": [
      "  0%|          | 0/2022 [00:00<?, ?it/s]"
     ]
    },
    {
     "name": "stderr",
     "output_type": "stream",
     "text": [
      "100%|██████████| 2022/2022 [2:02:27<00:00,  3.63s/it]  \n"
     ]
    }
   ],
   "source": [
    "\n",
    "\n",
    "data['response_time'] = data['Domain name'].progress_apply(check_website)\n"
   ]
  },
  {
   "cell_type": "code",
   "execution_count": 29,
   "metadata": {},
   "outputs": [
    {
     "name": "stdout",
     "output_type": "stream",
     "text": [
      "                       Domain name            Company name  Twitter  \\\n",
      "0              chateau-giscours.fr        château giscours  unknown   \n",
      "1                         raimo.fr           raimo glacier  unknown   \n",
      "2       champagne-voirin-jumel.com  champagne voirin jumel  unknown   \n",
      "3             chateaudepoisses.com      château d'époisses  unknown   \n",
      "4                   parenchere.com   château de parenchère  unknown   \n",
      "...                            ...                     ...      ...   \n",
      "2017  saintavold-coeurdemoselle.fr  avold coeur de moselle  unknown   \n",
      "2018           aubergedeleurope.fr     auberge de l'europe  unknown   \n",
      "2019        restaurantlesirocco.fr              le sirocco  unknown   \n",
      "2020               mononikokoro.ch          mono ni kokoro  unknown   \n",
      "2021           lepicerie-bleue.com        l'epicerie bleue  unknown   \n",
      "\n",
      "                     Facebook  Domain_valid  Twitter_valid  Facebook_valid  \\\n",
      "0                     unknown          True           True            True   \n",
      "1                raimoglacier          True           True            True   \n",
      "2                     unknown          True           True            True   \n",
      "3            chateaudepoisses          True           True            True   \n",
      "4         chateaudeparenchere          True           True            True   \n",
      "...                       ...           ...            ...             ...   \n",
      "2017                  unknown          True           True            True   \n",
      "2018  aubergedeleuropelouhans          True           True            True   \n",
      "2019                  unknown          True           True            True   \n",
      "2020             mononikokoro          True           True            True   \n",
      "2021                  unknown          True           True            True   \n",
      "\n",
      "     response_time  \n",
      "0         0.854263  \n",
      "1         0.382277  \n",
      "2         0.178866  \n",
      "3             None  \n",
      "4         2.913599  \n",
      "...            ...  \n",
      "2017      0.145147  \n",
      "2018      1.635239  \n",
      "2019      2.025134  \n",
      "2020      0.334888  \n",
      "2021          None  \n",
      "\n",
      "[2022 rows x 8 columns]\n"
     ]
    }
   ],
   "source": [
    "print(data)"
   ]
  },
  {
   "cell_type": "code",
   "execution_count": 77,
   "metadata": {},
   "outputs": [
    {
     "name": "stdout",
     "output_type": "stream",
     "text": [
      "224\n",
      "Index([   3,   16,   28,   40,   64,   76,   78,   86,   90,   98,\n",
      "       ...\n",
      "       1947, 1948, 1958, 1963, 1966, 1977, 1982, 1996, 2009, 2021],\n",
      "      dtype='int64', length=224)\n"
     ]
    }
   ],
   "source": [
    "none_count = data['response_time'].isna().sum()\n",
    "print(none_count)\n",
    "\n",
    "none_indices = data[data['response_time'].isna()].index\n",
    "print(none_indices)\n",
    "\n",
    "values = data.loc[none_indices, 'response_time']\n"
   ]
  },
  {
   "cell_type": "code",
   "execution_count": 78,
   "metadata": {},
   "outputs": [
    {
     "name": "stdout",
     "output_type": "stream",
     "text": [
      "3               chateaudepoisses.com\n",
      "16                      lacigale.com\n",
      "28                 marcheauxvins.com\n",
      "40               safrandugatinais.fr\n",
      "64              camping-oliviers.com\n",
      "                    ...             \n",
      "1977                 consignerie.com\n",
      "1982                  hors-champs.be\n",
      "1996                   leviviani.com\n",
      "2009    fannydelchef-photographe.com\n",
      "2021             lepicerie-bleue.com\n",
      "Name: Domain name, Length: 224, dtype: object\n"
     ]
    }
   ],
   "source": [
    "domains_to_check = data.loc[none_indices, 'Domain name']\n",
    "print(domains_to_check)"
   ]
  },
  {
   "cell_type": "code",
   "execution_count": 93,
   "metadata": {},
   "outputs": [
    {
     "name": "stdout",
     "output_type": "stream",
     "text": [
      "connection errror\n",
      "connection errror\n",
      "connection errror\n",
      "connection errror\n"
     ]
    }
   ],
   "source": [
    "for domain in domains_to_check:\n",
    "    index = data[data['Domain name'] == domain].index[0]  # Get index of the domain\n",
    "    result = check_website(domain)\n",
    "    data.at[index, 'error_type'] = result\n",
    "\n",
    "\n",
    "    "
   ]
  },
  {
   "cell_type": "code",
   "execution_count": 81,
   "metadata": {},
   "outputs": [
    {
     "name": "stdout",
     "output_type": "stream",
     "text": [
      "3       Non-functional (Connection Error)\n",
      "16                                    403\n",
      "28                                    403\n",
      "40                                    403\n",
      "64                                    404\n",
      "                      ...                \n",
      "1977                                  503\n",
      "1982                                  403\n",
      "1996                                  503\n",
      "2009                                  404\n",
      "2021       Non-functional (Timeout Error)\n",
      "Name: error_type, Length: 224, dtype: object\n"
     ]
    }
   ],
   "source": [
    "filtered= data[data['error_type'].notnull()] \n",
    "print(filtered['error_type'])"
   ]
  },
  {
   "cell_type": "code",
   "execution_count": 96,
   "metadata": {},
   "outputs": [
    {
     "name": "stdout",
     "output_type": "stream",
     "text": [
      "403\n"
     ]
    }
   ],
   "source": [
    "\n",
    "print(check_website('lacigale.com'))"
   ]
  }
 ],
 "metadata": {
  "kernelspec": {
   "display_name": ".venv",
   "language": "python",
   "name": "python3"
  },
  "language_info": {
   "codemirror_mode": {
    "name": "ipython",
    "version": 3
   },
   "file_extension": ".py",
   "mimetype": "text/x-python",
   "name": "python",
   "nbconvert_exporter": "python",
   "pygments_lexer": "ipython3",
   "version": "3.12.2"
  }
 },
 "nbformat": 4,
 "nbformat_minor": 2
}
